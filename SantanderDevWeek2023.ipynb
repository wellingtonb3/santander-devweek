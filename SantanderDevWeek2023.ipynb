{
  "nbformat": 4,
  "nbformat_minor": 0,
  "metadata": {
    "colab": {
      "provenance": [],
      "collapsed_sections": [
        "kNuP0SDUZMBY"
      ]
    },
    "kernelspec": {
      "name": "python3",
      "display_name": "Python 3"
    },
    "language_info": {
      "name": "python"
    }
  },
  "cells": [
    {
      "cell_type": "markdown",
      "source": [
        "# Santander Dev Week 2023 (ETL com Python)"
      ],
      "metadata": {
        "id": "BPJQsTCULaC-"
      }
    },
    {
      "cell_type": "markdown",
      "source": [
        "**Contexto:** Você é um cientista de dados no Santander e recebeu a tarefa de envolver seus clientes de maneira mais personalizada. Seu objetivo é usar o poder da IA Generativa para criar mensagens de marketing personalizadas que serão entregues a cada cliente.\n",
        "\n",
        "**Condições do Problema:**\n",
        "\n",
        "1. Você recebeu uma planilha simples, em formato CSV ('SDW2023.csv'), com uma lista de IDs de usuário do banco:\n",
        "  ```\n",
        "  UserID\n",
        "  1\n",
        "  2\n",
        "  3\n",
        "  4\n",
        "  5\n",
        "  ```\n",
        "2. Seu trabalho é consumir o endpoint `GET https://sdw-2023-prd.up.railway.app/users/{id}` (API da Santander Dev Week 2023) para obter os dados de cada cliente.\n",
        "3. Depois de obter os dados dos clientes, você vai usar a API do ChatGPT (OpenAI) para gerar uma mensagem de marketing personalizada para cada cliente. Essa mensagem deve enfatizar a importância dos investimentos.\n",
        "4. Uma vez que a mensagem para cada cliente esteja pronta, você vai enviar essas informações de volta para a API, atualizando a lista de \"news\" de cada usuário usando o endpoint `PUT https://sdw-2023-prd.up.railway.app/users/{id}`.\n",
        "\n"
      ],
      "metadata": {
        "id": "k5fA5OrXt1a3"
      }
    },
    {
      "cell_type": "code",
      "source": [
        "# Utilize sua própria URL se quiser ;)\n",
        "# Repositório da API: https://github.com/digitalinnovationone/santander-dev-week-2023-api\n",
        "sdw2023_api_url = 'https://sdw-2023-prd.up.railway.app'"
      ],
      "metadata": {
        "id": "FKqLC_CWoYqR"
      },
      "execution_count": 1,
      "outputs": []
    },
    {
      "cell_type": "markdown",
      "source": [
        "## **E**xtract\n",
        "\n",
        "Extraia a lista de IDs de usuário a partir do arquivo CSV. Para cada ID, faça uma requisição GET para obter os dados do usuário correspondente."
      ],
      "metadata": {
        "id": "9dfI-o7gLRq9"
      }
    },
    {
      "cell_type": "code",
      "execution_count": 4,
      "metadata": {
        "id": "NYydpX_GLRCB",
        "colab": {
          "base_uri": "https://localhost:8080/"
        },
        "outputId": "c7386740-e7fd-49ef-d767-f69fd34604ed"
      },
      "outputs": [
        {
          "output_type": "stream",
          "name": "stdout",
          "text": [
            "[101, 102, 103, 104, 105]\n"
          ]
        }
      ],
      "source": [
        "import pandas as pd\n",
        "\n",
        "df = pd.read_csv('clientes.csv')\n",
        "user_ids = df['User ID'].tolist()\n",
        "print(user_ids)"
      ]
    },
    {
      "cell_type": "code",
      "source": [
        "import requests\n",
        "import json\n",
        "\n",
        "def get_user(id):\n",
        "  response = requests.get(f'{sdw2023_api_url}/users/{id}')\n",
        "  return response.json() if response.status_code == 200 else None\n",
        "\n",
        "users = [user for id in user_ids if (user := get_user(id)) is not None]\n",
        "print(json.dumps(users, indent=2))"
      ],
      "metadata": {
        "id": "F5XOuCZGSTGw",
        "colab": {
          "base_uri": "https://localhost:8080/"
        },
        "outputId": "ff893bf1-a2f0-4f5a-fb3f-015d7279e2e5"
      },
      "execution_count": 5,
      "outputs": [
        {
          "output_type": "stream",
          "name": "stdout",
          "text": [
            "[\n",
            "  {\n",
            "    \"id\": 101,\n",
            "    \"name\": \"Douglas\",\n",
            "    \"account\": {\n",
            "      \"id\": 108,\n",
            "      \"number\": \"00001-20\",\n",
            "      \"agency\": \"9999\",\n",
            "      \"balance\": 0.0,\n",
            "      \"limit\": 100.0\n",
            "    },\n",
            "    \"card\": {\n",
            "      \"id\": 100,\n",
            "      \"number\": \"**** **** **** 1130\",\n",
            "      \"limit\": 600.0\n",
            "    },\n",
            "    \"features\": [],\n",
            "    \"news\": [\n",
            "      {\n",
            "        \"id\": 422,\n",
            "        \"icon\": \"https://images.genius.com/31fac7e2bef0ff83f25dbd8077863794.1000x1000x1.jpg\",\n",
            "        \"description\": \"Eduardo esteve aqui\"\n",
            "      },\n",
            "      {\n",
            "        \"id\": 423,\n",
            "        \"icon\": \"https://images.genius.com/31fac7e2bef0ff83f25dbd8077863794.1000x1000x1.jpg\",\n",
            "        \"description\": \"Eduardo esteve aqui\"\n",
            "      },\n",
            "      {\n",
            "        \"id\": 1057,\n",
            "        \"icon\": \"https://digitalinnovationone.github.io/santander-dev-week-2023-api/icons/credit.svg\",\n",
            "        \"description\": \"Douglas, o incentivo ao avan\\u00e7o tecnol\\u00f3gico, assim como o desafiador cen\\u00e1rio globalizado oferece uma interessante oportunidade para verifica\\u00e7\\u00e3o dos \\u00edndices pretendidos. \"\n",
            "      }\n",
            "    ]\n",
            "  },\n",
            "  {\n",
            "    \"id\": 102,\n",
            "    \"name\": \"Kau\\u00e3\",\n",
            "    \"account\": {\n",
            "      \"id\": 109,\n",
            "      \"number\": \"00001-21\",\n",
            "      \"agency\": \"9999\",\n",
            "      \"balance\": 0.0,\n",
            "      \"limit\": 210.0\n",
            "    },\n",
            "    \"card\": {\n",
            "      \"id\": 101,\n",
            "      \"number\": \"**** **** **** 1131\",\n",
            "      \"limit\": 650.0\n",
            "    },\n",
            "    \"features\": [],\n",
            "    \"news\": [\n",
            "      {\n",
            "        \"id\": 424,\n",
            "        \"icon\": \"https://images.genius.com/31fac7e2bef0ff83f25dbd8077863794.1000x1000x1.jpg\",\n",
            "        \"description\": \"Eduardo esteve aqui\"\n",
            "      },\n",
            "      {\n",
            "        \"id\": 425,\n",
            "        \"icon\": \"https://images.genius.com/31fac7e2bef0ff83f25dbd8077863794.1000x1000x1.jpg\",\n",
            "        \"description\": \"Eduardo esteve aqui\"\n",
            "      },\n",
            "      {\n",
            "        \"id\": 1058,\n",
            "        \"icon\": \"https://digitalinnovationone.github.io/santander-dev-week-2023-api/icons/credit.svg\",\n",
            "        \"description\": \"Kau\\u00e3, n\\u00e3o obstante, o comprometimento entre as equipes exige a precis\\u00e3o e a defini\\u00e7\\u00e3o dos \\u00edndices pretendidos. \"\n",
            "      }\n",
            "    ]\n",
            "  },\n",
            "  {\n",
            "    \"id\": 103,\n",
            "    \"name\": \"Neymar JR\",\n",
            "    \"account\": {\n",
            "      \"id\": 110,\n",
            "      \"number\": \"00001-22\",\n",
            "      \"agency\": \"9999\",\n",
            "      \"balance\": 0.0,\n",
            "      \"limit\": 2200.0\n",
            "    },\n",
            "    \"card\": {\n",
            "      \"id\": 102,\n",
            "      \"number\": \"**** **** **** 1132\",\n",
            "      \"limit\": 9900.0\n",
            "    },\n",
            "    \"features\": [],\n",
            "    \"news\": [\n",
            "      {\n",
            "        \"id\": 426,\n",
            "        \"icon\": \"https://images.genius.com/31fac7e2bef0ff83f25dbd8077863794.1000x1000x1.jpg\",\n",
            "        \"description\": \"Eduardo esteve aqui\"\n",
            "      },\n",
            "      {\n",
            "        \"id\": 427,\n",
            "        \"icon\": \"https://images.genius.com/31fac7e2bef0ff83f25dbd8077863794.1000x1000x1.jpg\",\n",
            "        \"description\": \"Eduardo esteve aqui\"\n",
            "      },\n",
            "      {\n",
            "        \"id\": 1059,\n",
            "        \"icon\": \"https://digitalinnovationone.github.io/santander-dev-week-2023-api/icons/credit.svg\",\n",
            "        \"description\": \"Neymar JR, pensando mais a longo prazo, a percep\\u00e7\\u00e3o das dificuldades nos obriga \\u00e0 an\\u00e1lise das condi\\u00e7\\u00f5es financeiras e administrativas exigidas. \"\n",
            "      }\n",
            "    ]\n",
            "  },\n",
            "  {\n",
            "    \"id\": 104,\n",
            "    \"name\": \"L.Messi\",\n",
            "    \"account\": {\n",
            "      \"id\": 111,\n",
            "      \"number\": \"00001-23\",\n",
            "      \"agency\": \"9999\",\n",
            "      \"balance\": 0.0,\n",
            "      \"limit\": 3300.0\n",
            "    },\n",
            "    \"card\": {\n",
            "      \"id\": 103,\n",
            "      \"number\": \"**** **** **** 1133\",\n",
            "      \"limit\": 1000.0\n",
            "    },\n",
            "    \"features\": [],\n",
            "    \"news\": [\n",
            "      {\n",
            "        \"id\": 428,\n",
            "        \"icon\": \"https://images.genius.com/31fac7e2bef0ff83f25dbd8077863794.1000x1000x1.jpg\",\n",
            "        \"description\": \"Eduardo esteve aqui\"\n",
            "      },\n",
            "      {\n",
            "        \"id\": 429,\n",
            "        \"icon\": \"https://images.genius.com/31fac7e2bef0ff83f25dbd8077863794.1000x1000x1.jpg\",\n",
            "        \"description\": \"Eduardo esteve aqui\"\n",
            "      },\n",
            "      {\n",
            "        \"id\": 1060,\n",
            "        \"icon\": \"https://digitalinnovationone.github.io/santander-dev-week-2023-api/icons/credit.svg\",\n",
            "        \"description\": \"L.Messi, pensando mais a longo prazo, o desafiador cen\\u00e1rio globalizado aponta para a melhoria de todos os recursos funcionais envolvidos. \"\n",
            "      }\n",
            "    ]\n",
            "  },\n",
            "  {\n",
            "    \"id\": 105,\n",
            "    \"name\": \"C.Ronaldo\",\n",
            "    \"account\": {\n",
            "      \"id\": 112,\n",
            "      \"number\": \"00001-24\",\n",
            "      \"agency\": \"9999\",\n",
            "      \"balance\": 0.0,\n",
            "      \"limit\": 5500.0\n",
            "    },\n",
            "    \"card\": {\n",
            "      \"id\": 104,\n",
            "      \"number\": \"**** **** **** 1134\",\n",
            "      \"limit\": 1500.0\n",
            "    },\n",
            "    \"features\": [],\n",
            "    \"news\": [\n",
            "      {\n",
            "        \"id\": 430,\n",
            "        \"icon\": \"https://images.genius.com/31fac7e2bef0ff83f25dbd8077863794.1000x1000x1.jpg\",\n",
            "        \"description\": \"Eduardo esteve aqui\"\n",
            "      },\n",
            "      {\n",
            "        \"id\": 431,\n",
            "        \"icon\": \"https://images.genius.com/31fac7e2bef0ff83f25dbd8077863794.1000x1000x1.jpg\",\n",
            "        \"description\": \"Eduardo esteve aqui\"\n",
            "      },\n",
            "      {\n",
            "        \"id\": 1061,\n",
            "        \"icon\": \"https://digitalinnovationone.github.io/santander-dev-week-2023-api/icons/credit.svg\",\n",
            "        \"description\": \"C.Ronaldo, percebemos, cada vez mais, que a percep\\u00e7\\u00e3o das dificuldades exige a precis\\u00e3o e a defini\\u00e7\\u00e3o das regras de conduta normativas. \"\n",
            "      }\n",
            "    ]\n",
            "  }\n",
            "]\n"
          ]
        }
      ]
    },
    {
      "cell_type": "markdown",
      "source": [
        "## **T**ransform\n",
        "\n",
        "Utilize a API do OpenAI GPT-4 para gerar uma mensagem de marketing personalizada para cada usuário."
      ],
      "metadata": {
        "id": "cWoqInB4TF1x"
      }
    },
    {
      "cell_type": "code",
      "source": [
        "!pip install openai"
      ],
      "metadata": {
        "id": "O--PCAObTQkK"
      },
      "execution_count": null,
      "outputs": []
    },
    {
      "cell_type": "code",
      "source": [
        "# Documentação Oficial da API OpenAI: https://platform.openai.com/docs/api-reference/introduction\n",
        "# Informações sobre o Período Gratuito: https://help.openai.com/en/articles/4936830\n",
        "\n",
        "# Para gerar uma API Key:\n",
        "# 1. Crie uma conta na OpenAI\n",
        "# 2. Acesse a seção \"API Keys\"\n",
        "# 3. Clique em \"Create API Key\"\n",
        "# Link direto: https://platform.openai.com/account/api-keys\n",
        "\n",
        "# Substitua o texto TODO por sua API Key da OpenAI, ela será salva como uma variável de ambiente.\n",
        "openai_api_key = 'TODO'"
      ],
      "metadata": {
        "id": "sUB1doiDTX3y"
      },
      "execution_count": null,
      "outputs": []
    },
    {
      "cell_type": "code",
      "source": [
        "import openai\n",
        "\n",
        "openai.api_key = openai_api_key\n",
        "\n",
        "def generate_ai_news(user):\n",
        "  completion = openai.ChatCompletion.create(\n",
        "    model=\"gpt-4\",\n",
        "    messages=[\n",
        "      {\n",
        "          \"role\": \"system\",\n",
        "          \"content\": \"Você é um especialista em markting bancário.\"\n",
        "      },\n",
        "      {\n",
        "          \"role\": \"user\",\n",
        "          \"content\": f\"Crie uma mensagem para {user['name']} sobre a importância dos investimentos (máximo de 100 caracteres)\"\n",
        "      }\n",
        "    ]\n",
        "  )\n",
        "  return completion.choices[0].message.content.strip('\\\"')\n",
        "\n",
        "for user in users:\n",
        "  news = generate_ai_news(user)\n",
        "  print(news)\n",
        "  user['news'].append({\n",
        "      \"icon\": \"https://digitalinnovationone.github.io/santander-dev-week-2023-api/icons/credit.svg\",\n",
        "      \"description\": news\n",
        "  })"
      ],
      "metadata": {
        "id": "n1w78kNxTrZY",
        "colab": {
          "base_uri": "https://localhost:8080/"
        },
        "outputId": "b3732006-e25c-4c82-e068-ec7ffca14471"
      },
      "execution_count": null,
      "outputs": [
        {
          "output_type": "stream",
          "name": "stdout",
          "text": [
            "Pyterson, invista para fazer seu dinheiro crescer. Seu futuro financeiro depende disso!\n",
            "Pip, investir é o caminho para multiplicar seu dinheiro. Vamos fortalecer seu futuro financeiro!\n",
            "Pep, investimentos são a chave para o futuro financeiro. Cresça seu dinheiro, não apenas o guarde!\n"
          ]
        }
      ]
    },
    {
      "cell_type": "markdown",
      "source": [
        "## **L**oad\n",
        "\n",
        "Atualize a lista de \"news\" de cada usuário na API com a nova mensagem gerada."
      ],
      "metadata": {
        "id": "kNuP0SDUZMBY"
      }
    },
    {
      "cell_type": "code",
      "source": [
        "def update_user(user):\n",
        "  response = requests.put(f\"{sdw2023_api_url}/users/{user['id']}\", json=user)\n",
        "  return True if response.status_code == 200 else False\n",
        "\n",
        "for user in users:\n",
        "  success = update_user(user)\n",
        "  print(f\"User {user['name']} updated? {success}!\")"
      ],
      "metadata": {
        "id": "YefWfYBoZMN2",
        "colab": {
          "base_uri": "https://localhost:8080/"
        },
        "outputId": "b0c06200-e14e-4cce-901f-a85ea3eb2830"
      },
      "execution_count": null,
      "outputs": [
        {
          "output_type": "stream",
          "name": "stdout",
          "text": [
            "User Pyterson updated? True!\n",
            "User Pip updated? True!\n",
            "User Pep updated? True!\n"
          ]
        }
      ]
    }
  ]
}